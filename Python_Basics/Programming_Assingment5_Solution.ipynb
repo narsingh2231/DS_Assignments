{
  "nbformat": 4,
  "nbformat_minor": 0,
  "metadata": {
    "colab": {
      "provenance": [],
      "include_colab_link": true
    },
    "kernelspec": {
      "name": "python3",
      "display_name": "Python 3"
    },
    "language_info": {
      "name": "python"
    }
  },
  "cells": [
    {
      "cell_type": "markdown",
      "metadata": {
        "id": "view-in-github",
        "colab_type": "text"
      },
      "source": [
        "<a href=\"https://colab.research.google.com/github/narsingh2231/DS_Assignments/blob/main/Python_Basics/Programming_Assingment5_Solution.ipynb\" target=\"_parent\"><img src=\"https://colab.research.google.com/assets/colab-badge.svg\" alt=\"Open In Colab\"/></a>"
      ]
    },
    {
      "cell_type": "code",
      "execution_count": null,
      "metadata": {
        "id": "hwDrTb2kXgur"
      },
      "outputs": [],
      "source": [
        "# Programming_Assingment5 Solution\n",
        "\n",
        "# 1.\tWrite a Python Program to Find LCM?\n",
        "# 2.\tWrite a Python Program to Find HCF?\n",
        "# 3.\tWrite a Python Program to Convert Decimal to Binary, Octal and Hexadecimal?\n",
        "# 4.\tWrite a Python Program To Find ASCII value of a character?\n",
        "# 5.\tWrite a Python Program to Make a Simple Calculator with 4 basic mathematical operations?"
      ]
    },
    {
      "cell_type": "code",
      "source": [
        "# 1.\tWrite a Python Program to Find LCM?\n",
        "def get_lcm(num1, num2):\n",
        "  max_num = max(num1, num2)\n",
        "  lcm = max_num\n",
        "  while True:\n",
        "    if(lcm % num1== 0) and (lcm % num2 == 0):\n",
        "      break\n",
        "    lcm = lcm + max_num\n",
        "\n",
        "  return lcm\n",
        "\n",
        "num1 = int(input('Please enter 1st number: '))\n",
        "num2 = int(input('Please enter 2st number: '))\n",
        "\n",
        "get_lcm(num1, num2)"
      ],
      "metadata": {
        "colab": {
          "base_uri": "https://localhost:8080/"
        },
        "id": "OI2jcfrMX_iJ",
        "outputId": "53f8c7cd-48c5-4764-e227-22483dbb8065"
      },
      "execution_count": null,
      "outputs": [
        {
          "name": "stdout",
          "output_type": "stream",
          "text": [
            "Please enter 1st number: 9\n",
            "Please enter 2st number: 13\n"
          ]
        },
        {
          "output_type": "execute_result",
          "data": {
            "text/plain": [
              "117"
            ]
          },
          "metadata": {},
          "execution_count": 4
        }
      ]
    },
    {
      "cell_type": "code",
      "source": [
        "# 2.\tWrite a Python Program to Find HCF?\n",
        "def get_hcf(num1, num2):\n",
        "  min_num = min(num1, num2)\n",
        "  hcf = min_num\n",
        "  for i in range(1, min_num + 1):\n",
        "      if num1 % i == 0 and num2 % i == 0:\n",
        "          hcf = i\n",
        "\n",
        "  return hcf\n",
        "\n",
        "num1 = int(input('Please enter 1st number: '))\n",
        "num2 = int(input('Please enter 2st number: '))\n",
        "\n",
        "get_hcf(num1, num2)"
      ],
      "metadata": {
        "colab": {
          "base_uri": "https://localhost:8080/"
        },
        "id": "6hCIM2EgaCwW",
        "outputId": "1c9c5e31-a370-43e1-93f5-aa1a61ddeb78"
      },
      "execution_count": null,
      "outputs": [
        {
          "name": "stdout",
          "output_type": "stream",
          "text": [
            "Please enter 1st number: 8\n",
            "Please enter 2st number: 18\n"
          ]
        },
        {
          "output_type": "execute_result",
          "data": {
            "text/plain": [
              "2"
            ]
          },
          "metadata": {},
          "execution_count": 10
        }
      ]
    },
    {
      "cell_type": "code",
      "source": [
        "# 3.\tWrite a Python Program to Convert Decimal to Binary, Octal and Hexadecimal?\n",
        "\n",
        "num = int(input('Please enter a number :'))\n",
        "print(\"Binary Number is :\", bin(num)[2:])\n",
        "print(\"Octal Number is :\", oct(num)[2:])\n",
        "print(\"Hexadecimal Number is :\", hex(num)[2:])\n"
      ],
      "metadata": {
        "colab": {
          "base_uri": "https://localhost:8080/"
        },
        "id": "J4NSkRBSaD1z",
        "outputId": "5e889b23-c788-4afa-fb0d-ae2b43a18936"
      },
      "execution_count": null,
      "outputs": [
        {
          "output_type": "stream",
          "name": "stdout",
          "text": [
            "Please enter a number :7\n",
            "Binary Number is : 111\n",
            "Octal Number is : 7\n",
            "Hexadecimal Number is : 7\n"
          ]
        }
      ]
    },
    {
      "cell_type": "code",
      "source": [
        "# 4.\tWrite a Python Program To Find ASCII value of a character?\n",
        "char = input('Please enter a character :')\n",
        "print(\"The ASCII value of\", char, \"is\", ord(char))"
      ],
      "metadata": {
        "colab": {
          "base_uri": "https://localhost:8080/"
        },
        "id": "j4atX-ZOfyvL",
        "outputId": "84a86630-b9ac-4dee-dd5c-61425c934d48"
      },
      "execution_count": null,
      "outputs": [
        {
          "output_type": "stream",
          "name": "stdout",
          "text": [
            "Please enter a character :n\n",
            "The ASCII value of n is 110\n"
          ]
        }
      ]
    },
    {
      "cell_type": "code",
      "source": [
        "# 5.\tWrite a Python Program to Make a Simple Calculator with 4 basic mathematical operations?\n",
        "\n",
        "num1 = int(input('Please enter 1st number: '))\n",
        "optr = input('Please enter operator: ')\n",
        "num2 = int(input('Please enter 2st number: '))\n",
        "\n",
        "if (optr == \"+\"):\n",
        "  cal= num1 + num2\n",
        "  print(\"Addition of the given numbers is: \", cal)\n",
        "elif(optr == \"-\"):\n",
        "  cal= num1 - num2\n",
        "  print(\"Substraction of the given numbers is: \", cal)\n",
        "elif(optr == \"*\"):\n",
        "  cal= num1 * num2\n",
        "  print(\"Multiplication of the given numbers is: \", cal)\n",
        "elif(optr == \"/\"):\n",
        "  cal= num1 / num2\n",
        "  print(\"Division of the given numbers is: \", cal)\n"
      ],
      "metadata": {
        "colab": {
          "base_uri": "https://localhost:8080/"
        },
        "id": "e140SiazgqdR",
        "outputId": "771ed144-5c20-48f6-db11-8d95e34b8b95"
      },
      "execution_count": null,
      "outputs": [
        {
          "output_type": "stream",
          "name": "stdout",
          "text": [
            "Please enter 1st number: 7\n",
            "Please enter operator: +\n",
            "Please enter 2st number: 9\n",
            "Addition of the given numbers is:  16\n"
          ]
        }
      ]
    },
    {
      "cell_type": "code",
      "source": [],
      "metadata": {
        "id": "pCKoo8mXhh6Q"
      },
      "execution_count": null,
      "outputs": []
    }
  ]
}