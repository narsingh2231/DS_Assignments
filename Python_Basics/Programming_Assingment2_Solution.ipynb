{
  "cells": [
    {
      "cell_type": "markdown",
      "metadata": {
        "id": "view-in-github",
        "colab_type": "text"
      },
      "source": [
        "<a href=\"https://colab.research.google.com/github/narsingh2231/DS_Assignments/blob/main/Python_Basics/Programming_Assingment2_Solution.ipynb\" target=\"_parent\"><img src=\"https://colab.research.google.com/assets/colab-badge.svg\" alt=\"Open In Colab\"/></a>"
      ]
    },
    {
      "cell_type": "code",
      "execution_count": null,
      "id": "bddf006f",
      "metadata": {
        "id": "bddf006f",
        "outputId": "d93895d2-57dc-4b54-ef30-fb6c41b3c9c0"
      },
      "outputs": [
        {
          "data": {
            "text/plain": [
              "'\\n1.\\tWrite a Python program to convert kilometers to miles?\\n2.\\tWrite a Python program to convert Celsius to Fahrenheit?\\n3.\\tWrite a Python program to display calendar?\\n4.\\tWrite a Python program to solve quadratic equation?\\n5.\\tWrite a Python program to swap two variables without temp variable?\\n'"
            ]
          },
          "execution_count": 1,
          "metadata": {},
          "output_type": "execute_result"
        }
      ],
      "source": [
        "#Programming_Assingment2_Solution\n",
        "'''\n",
        "1.\tWrite a Python program to convert kilometers to miles?\n",
        "2.\tWrite a Python program to convert Celsius to Fahrenheit?\n",
        "3.\tWrite a Python program to display calendar?\n",
        "4.\tWrite a Python program to solve quadratic equation?\n",
        "5.\tWrite a Python program to swap two variables without temp variable?\n",
        "'''"
      ]
    },
    {
      "cell_type": "code",
      "execution_count": null,
      "id": "bc5e855e",
      "metadata": {
        "id": "bc5e855e",
        "outputId": "857e59af-8dd2-403c-da6d-5df2462fdb8e"
      },
      "outputs": [
        {
          "name": "stdout",
          "output_type": "stream",
          "text": [
            "Please Enter value in kilometer here: 8\n",
            "miles :  4.9712\n"
          ]
        }
      ],
      "source": [
        "# 1.\tWrite a Python program to convert kilometers to miles?\n",
        "\n",
        "# 1 km = 0.6214 miles\n",
        "km = input('Please Enter value in kilometer here: ' )\n",
        "miles = int(km) * 0.6214\n",
        "print(\"miles : \", miles)"
      ]
    },
    {
      "cell_type": "code",
      "execution_count": null,
      "id": "945706d5",
      "metadata": {
        "id": "945706d5",
        "outputId": "e051ba9b-5514-4c9e-b95a-df210179dca2"
      },
      "outputs": [
        {
          "name": "stdout",
          "output_type": "stream",
          "text": [
            "Please Enter Temperature in degrees Celsius: 37\n",
            "Temperature in degrees Fahrenheit (°F) :  98.6\n"
          ]
        }
      ],
      "source": [
        "# 2.\tWrite a Python program to convert Celsius to Fahrenheit?\n",
        "\n",
        "# Temperature(°F) = (Temperature (°C) * 9/5) + 32\n",
        "Temp_C = input('Please Enter Temperature in degrees Celsius: ' )\n",
        "Temp_F = (int(Temp_C) * 9/5) + 32\n",
        "print(\"Temperature in degrees Fahrenheit (°F) : \" , Temp_F)"
      ]
    },
    {
      "cell_type": "code",
      "execution_count": null,
      "id": "522d787c",
      "metadata": {
        "id": "522d787c",
        "outputId": "47f9c881-5eb7-4f75-d086-82e018e88e3e"
      },
      "outputs": [
        {
          "name": "stdout",
          "output_type": "stream",
          "text": [
            "Enter the year: 2023\n",
            "Enter the month: 6\n",
            "     June 2023\n",
            "Mo Tu We Th Fr Sa Su\n",
            "          1  2  3  4\n",
            " 5  6  7  8  9 10 11\n",
            "12 13 14 15 16 17 18\n",
            "19 20 21 22 23 24 25\n",
            "26 27 28 29 30\n",
            "\n"
          ]
        }
      ],
      "source": [
        "# 3.\tWrite a Python program to display calendar?\n",
        "\n",
        "import calendar\n",
        "year = int(input(\"Enter the year: \"))\n",
        "month = int(input(\"Enter the month: \"))\n",
        "\n",
        "print(calendar.month(year,month))"
      ]
    },
    {
      "cell_type": "code",
      "execution_count": null,
      "id": "12e665ec",
      "metadata": {
        "id": "12e665ec",
        "outputId": "3bb1db45-9695-4a3e-f283-3f52fc4c50dd"
      },
      "outputs": [
        {
          "name": "stdout",
          "output_type": "stream",
          "text": [
            "Enter the value of a: 7\n",
            "Enter the value of b: 5\n",
            "Enter the value of c: 7\n",
            "-171.0\n",
            "Solution 1:  (-0.35714285714285715-0.9340497736158586j)\n",
            "Solution 2:  (-0.35714285714285715+0.9340497736158586j)\n"
          ]
        }
      ],
      "source": [
        "# 4.\tWrite a Python program to solve quadratic equation?\n",
        "# ax2+bx+c=0\n",
        "import cmath\n",
        "a = float(input('Enter the value of a: ' ))\n",
        "b = float(input('Enter the value of b: ' ))\n",
        "c = float(input('Enter the value of c: ' ))\n",
        "\n",
        "d = ((b)**2) - (4*a*c)\n",
        "print(d)\n",
        "ans1 = (-b- cmath.sqrt(d))/(2*a)\n",
        "ans2 = (-b+ cmath.sqrt(d))/(2*a)\n",
        "\n",
        "print('Solution 1: ', ans1)\n",
        "print('Solution 2: ', ans2)"
      ]
    },
    {
      "cell_type": "code",
      "execution_count": null,
      "id": "b7d2652d",
      "metadata": {
        "id": "b7d2652d",
        "outputId": "0cb8c78e-a8b0-45ce-8d61-82aecb5572ec"
      },
      "outputs": [
        {
          "name": "stdout",
          "output_type": "stream",
          "text": [
            "8\n",
            "6\n"
          ]
        }
      ],
      "source": [
        "# 5.\tWrite a Python program to swap two variables without temp variable?\n",
        "\n",
        "var1 = 6\n",
        "var2 = 8\n",
        "\n",
        "var1,var2 = var2,var1\n",
        "\n",
        "\n",
        "print(var1)\n",
        "print(var2)"
      ]
    },
    {
      "cell_type": "code",
      "execution_count": null,
      "id": "8ffc12b2",
      "metadata": {
        "id": "8ffc12b2"
      },
      "outputs": [],
      "source": []
    }
  ],
  "metadata": {
    "kernelspec": {
      "display_name": "Python 3 (ipykernel)",
      "language": "python",
      "name": "python3"
    },
    "language_info": {
      "codemirror_mode": {
        "name": "ipython",
        "version": 3
      },
      "file_extension": ".py",
      "mimetype": "text/x-python",
      "name": "python",
      "nbconvert_exporter": "python",
      "pygments_lexer": "ipython3",
      "version": "3.10.11"
    },
    "colab": {
      "provenance": [],
      "include_colab_link": true
    }
  },
  "nbformat": 4,
  "nbformat_minor": 5
}