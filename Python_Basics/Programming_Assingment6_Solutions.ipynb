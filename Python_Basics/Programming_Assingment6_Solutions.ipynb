{
  "nbformat": 4,
  "nbformat_minor": 0,
  "metadata": {
    "colab": {
      "provenance": [],
      "authorship_tag": "ABX9TyOU2ZzfYmZre2RDcB+SROxI",
      "include_colab_link": true
    },
    "kernelspec": {
      "name": "python3",
      "display_name": "Python 3"
    },
    "language_info": {
      "name": "python"
    }
  },
  "cells": [
    {
      "cell_type": "markdown",
      "metadata": {
        "id": "view-in-github",
        "colab_type": "text"
      },
      "source": [
        "<a href=\"https://colab.research.google.com/github/narsingh2231/DS_Assignments/blob/main/Python_Basics/Programming_Assingment6_Solutions.ipynb\" target=\"_parent\"><img src=\"https://colab.research.google.com/assets/colab-badge.svg\" alt=\"Open In Colab\"/></a>"
      ]
    },
    {
      "cell_type": "code",
      "execution_count": null,
      "metadata": {
        "id": "DjPNmYn2JLLB"
      },
      "outputs": [],
      "source": [
        "# 1.\tWrite a Python Program to Display Fibonacci Sequence Using Recursion?\n",
        "# 2.\tWrite a Python Program to Find Factorial of Number Using Recursion?\n",
        "# 3.\tWrite a Python Program to calculate your Body Mass Index?\n",
        "# 4.\tWrite a Python Program to calculate the natural logarithm of any number?\n",
        "# 5.\tWrite a Python Program for cube sum of first n natural numbers?\n"
      ]
    },
    {
      "cell_type": "code",
      "source": [],
      "metadata": {
        "id": "UmhrtSgwUac4"
      },
      "execution_count": null,
      "outputs": []
    }
  ]
}