{
  "nbformat": 4,
  "nbformat_minor": 0,
  "metadata": {
    "colab": {
      "provenance": []
    },
    "kernelspec": {
      "name": "python3",
      "display_name": "Python 3"
    },
    "language_info": {
      "name": "python"
    }
  },
  "cells": [
    {
      "cell_type": "code",
      "execution_count": null,
      "metadata": {
        "id": "lsK90Mu6ontM"
      },
      "outputs": [],
      "source": [
        "'''\n",
        "1.\tWrite a Python Program to Find the Factorial of a Number?\n",
        "2.\tWrite a Python Program to Display the multiplication Table?\n",
        "3.\tWrite a Python Program to Print the Fibonacci sequence?\n",
        "4.\tWrite a Python Program to Check Armstrong Number?\n",
        "5.\tWrite a Python Program to Find Armstrong Number in an Interval?\n",
        "6.\tWrite a Python Program to Find the Sum of Natural Numbers?\n",
        "'''\n"
      ]
    },
    {
      "cell_type": "code",
      "source": [
        "# 1.\tWrite a Python Program to Find the Factorial of a Number?\n",
        "def factorial(num):\n",
        "    if num == 0:\n",
        "        return 1\n",
        "    else:\n",
        "        return num * factorial(num-1)\n",
        "\n",
        "num = int(input('Please Enter a number: ' ))\n",
        "if(num == 1):\n",
        "  print(num)\n",
        "elif (num<0):\n",
        "  print('Factorial of negative number is not possible')\n",
        "else:\n",
        "  print(factorial(num))\n"
      ],
      "metadata": {
        "colab": {
          "base_uri": "https://localhost:8080/"
        },
        "id": "kOkbmVTYo1p2",
        "outputId": "cbb277d1-d1a7-4312-e53a-0ce1216f8f9a"
      },
      "execution_count": null,
      "outputs": [
        {
          "output_type": "stream",
          "name": "stdout",
          "text": [
            "Please Enter a number: -5\n",
            "Factorial of negative number is not possible\n"
          ]
        }
      ]
    },
    {
      "cell_type": "code",
      "source": [
        "# 2.\tWrite a Python Program to Display the multiplication Table?\n",
        "\n",
        "for num in range(1,11):\n",
        "  for i in range(1,11):\n",
        "    num2 =num*i\n",
        "    print(num2, end = \" \")\n"
      ],
      "metadata": {
        "colab": {
          "base_uri": "https://localhost:8080/"
        },
        "id": "pF0il8-opjl4",
        "outputId": "018f335c-d7c9-4a21-88b9-341f004a648b"
      },
      "execution_count": null,
      "outputs": [
        {
          "output_type": "stream",
          "name": "stdout",
          "text": [
            "1 2 3 4 5 6 7 8 9 10 2 4 6 8 10 12 14 16 18 20 3 6 9 12 15 18 21 24 27 30 4 8 12 16 20 24 28 32 36 40 5 10 15 20 25 30 35 40 45 50 6 12 18 24 30 36 42 48 54 60 7 14 21 28 35 42 49 56 63 70 8 16 24 32 40 48 56 64 72 80 9 18 27 36 45 54 63 72 81 90 10 20 30 40 50 60 70 80 90 100 "
          ]
        }
      ]
    },
    {
      "cell_type": "code",
      "source": [
        "# 3.\tWrite a Python Program to Print the Fibonacci sequence?\n",
        "\n",
        "num = int(input('Please Enter a number: ' ))\n",
        "num2 = 1\n",
        "num3= 0\n",
        "cnt = 1\n",
        "\n",
        "while(cnt <= num):\n",
        "  print(num3)\n",
        "  cnt += 1\n",
        "  num1 =  num2\n",
        "  num2 = num3\n",
        "  num3 = num1 + num2\n"
      ],
      "metadata": {
        "id": "jURqMW1sxwGv",
        "colab": {
          "base_uri": "https://localhost:8080/"
        },
        "outputId": "fe065aba-1cfa-492e-aaa0-2411b7a8c97c"
      },
      "execution_count": null,
      "outputs": [
        {
          "output_type": "stream",
          "name": "stdout",
          "text": [
            "Please Enter a number: 10\n",
            "0\n",
            "1\n",
            "1\n",
            "2\n",
            "3\n",
            "5\n",
            "8\n",
            "13\n",
            "21\n",
            "34\n"
          ]
        }
      ]
    },
    {
      "cell_type": "code",
      "source": [],
      "metadata": {
        "colab": {
          "base_uri": "https://localhost:8080/"
        },
        "id": "-OTEZ21FCpoA",
        "outputId": "ffcc7bfa-4f3f-45db-9e9e-c6288abe2e2f"
      },
      "execution_count": null,
      "outputs": [
        {
          "output_type": "stream",
          "name": "stdout",
          "text": [
            "[0, 2, 4, 6, 8, 10, 12, 14, 16, 18, 20, 22, 24, 26, 28, 30, 32, 34, 36, 38, 40, 42, 44, 46, 48, 50, 52, 54, 56, 58, 60, 62, 64, 66, 68, 70, 72, 74, 76, 78, 80, 82, 84, 86, 88, 90, 92, 94, 96, 98, 100, 102, 104, 106, 108, 110, 112, 114, 116, 118, 120, 122, 124, 126, 128, 130, 132, 134, 136, 138, 140, 142, 144, 146, 148, 150, 152, 154, 156, 158, 160, 162, 164, 166, 168, 170, 172, 174, 176, 178, 180, 182, 184, 186, 188, 190, 192, 194, 196, 198]\n"
          ]
        }
      ]
    },
    {
      "cell_type": "code",
      "source": [
        "# 4.\tWrite a Python Program to Check Armstrong Number?\n",
        "\n",
        "\"\"\"\n",
        "What is Armstrong in number?\n",
        "An Armstrong number is one whose sum of digits raised to the power three equals the number itself.\n",
        "371, for example, is an Armstrong number because 3**3 + 7**3 + 1**3 = 371.\n",
        "\"\"\"\n",
        "num = int(input('Please Enter a number: ' ))\n",
        "def is_armstrong_number(num):\n",
        "  num_str = str(num)\n",
        "  num_digits = len(num_str)\n",
        "\n",
        "  armstrong_sum = sum(int(digit) ** num_digits for digit in num_str)\n",
        "  if armstrong_sum == num:\n",
        "    print(num, \"is an Armstrong number.\")\n",
        "  else:\n",
        "    print(num, \"is not an Armstrong number.\")\n",
        "\n",
        "is_armstrong_number(num)"
      ],
      "metadata": {
        "colab": {
          "base_uri": "https://localhost:8080/"
        },
        "id": "Xf4hAV5vD-Iz",
        "outputId": "ef0e69f7-024f-4a5f-b154-53d47984b10e"
      },
      "execution_count": null,
      "outputs": [
        {
          "output_type": "stream",
          "name": "stdout",
          "text": [
            "Please Enter a number: 23\n",
            "23 is not an Armstrong number.\n"
          ]
        }
      ]
    },
    {
      "cell_type": "code",
      "source": [
        "# 5.\tWrite a Python Program to Find Armstrong Number in an Interval?\n",
        "\n",
        "for num in range(0,1000):\n",
        "  num_str = str(num)\n",
        "  num_digits = len(num_str)\n",
        "\n",
        "  armstrong_sum = sum(int(digit) ** num_digits for digit in num_str)\n",
        "  if armstrong_sum == num:\n",
        "      print(num, \"is an Armstrong number.\")"
      ],
      "metadata": {
        "colab": {
          "base_uri": "https://localhost:8080/"
        },
        "id": "QyK7AzI3Hx0D",
        "outputId": "5303fdff-82cd-4366-88c6-cf69af2b8a75"
      },
      "execution_count": null,
      "outputs": [
        {
          "output_type": "stream",
          "name": "stdout",
          "text": [
            "0 is an Armstrong number.\n",
            "1 is an Armstrong number.\n",
            "2 is an Armstrong number.\n",
            "3 is an Armstrong number.\n",
            "4 is an Armstrong number.\n",
            "5 is an Armstrong number.\n",
            "6 is an Armstrong number.\n",
            "7 is an Armstrong number.\n",
            "8 is an Armstrong number.\n",
            "9 is an Armstrong number.\n",
            "153 is an Armstrong number.\n",
            "370 is an Armstrong number.\n",
            "371 is an Armstrong number.\n",
            "407 is an Armstrong number.\n"
          ]
        }
      ]
    },
    {
      "cell_type": "code",
      "source": [
        "# 6.\tWrite a Python Program to Find the Sum of Natural Numbers?\n",
        "#sum_of_numbers = (n * (n + 1)) // 2\n",
        "\n",
        "def add_nums(num):\n",
        "  return (num * (num + 1))//2\n",
        "\n",
        "num = int(input('Please Enter a number: ' ))\n",
        "if(num == 1):\n",
        "  print(num)\n",
        "elif (num<0):\n",
        "  print('it is not a Natural Numbers')\n",
        "else:\n",
        "  print(add_nums(num))"
      ],
      "metadata": {
        "id": "hcumklmgH5DY",
        "colab": {
          "base_uri": "https://localhost:8080/"
        },
        "outputId": "231f2716-0c6d-4eaf-e0e1-1cb4807a78cb"
      },
      "execution_count": 16,
      "outputs": [
        {
          "output_type": "stream",
          "name": "stdout",
          "text": [
            "Please Enter a number: -8\n",
            "it is not  a Natural Numbers\n"
          ]
        }
      ]
    }
  ]
}