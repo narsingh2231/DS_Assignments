{
  "nbformat": 4,
  "nbformat_minor": 0,
  "metadata": {
    "colab": {
      "provenance": [],
      "authorship_tag": "ABX9TyOOfv+igMmW0VWfpmMDuKY9",
      "include_colab_link": true
    },
    "kernelspec": {
      "name": "python3",
      "display_name": "Python 3"
    },
    "language_info": {
      "name": "python"
    }
  },
  "cells": [
    {
      "cell_type": "markdown",
      "metadata": {
        "id": "view-in-github",
        "colab_type": "text"
      },
      "source": [
        "<a href=\"https://colab.research.google.com/github/narsingh2231/DS_Assignments/blob/main/2.Advance_Python/Assignment_03_Solution.ipynb\" target=\"_parent\"><img src=\"https://colab.research.google.com/assets/colab-badge.svg\" alt=\"Open In Colab\"/></a>"
      ]
    },
    {
      "cell_type": "markdown",
      "source": [
        "### Q1. What is the concept of an abstract superclass?\n",
        "\n",
        "* The concept of an abstract superclass is closely related to the idea of abstraction in object-oriented programming (OOP). In OOP, abstraction is a fundamental principle that allows you to define a common interface or set of attributes and methods for a group of related classes, without providing a concrete implementation for some or all of those methods in the abstract class.\n",
        "\n",
        "* An abstract superclass, also known as an abstract base class (ABC), is a class that cannot be instantiated on its own. It serves as a blueprint for its subclasses, providing a common structure and interface that those subclasses must adhere to. The abstract superclass typically contains abstract methods, which are methods without a complete implementation, and concrete methods that have a defined behavior.\n",
        "\n",
        "**Here are the key characteristics of an abstract superclass:**\n",
        "\n",
        "1. Cannot be instantiated: You cannot create objects directly from an abstract superclass. Instead, you must create instances of its concrete subclasses.\n",
        "\n",
        "2. May contain abstract methods: Abstract methods are declared in the abstract superclass without providing an implementation. These methods act as placeholders that must be implemented in the concrete subclasses. This enforces a contract, ensuring that all subclasses implement certain behavior.\n",
        "\n",
        "3. May contain concrete methods: In addition to abstract methods, an abstract superclass can also have concrete methods. Concrete methods have a complete implementation and can be directly called by the concrete subclasses.\n",
        "\n",
        "4. Establishes a common interface: By defining abstract methods, the abstract superclass establishes a set of methods that its subclasses must have. This allows clients of the subclasses to use the same interface when interacting with objects of different subclasses.\n",
        "\n",
        "Here's a simplified example in Python:\n",
        "```\n",
        "from abc import ABC, abstractmethod\n",
        "\n",
        "class Shape(ABC):\n",
        "    @abstractmethod\n",
        "    def area(self):\n",
        "        pass\n",
        "\n",
        "    @abstractmethod\n",
        "    def perimeter(self):\n",
        "        pass\n",
        "\n",
        "class Rectangle(Shape):\n",
        "    def __init__(self, width, height):\n",
        "        self.width = width\n",
        "        self.height = height\n",
        "\n",
        "    def area(self):\n",
        "        return self.width * self.height\n",
        "\n",
        "    def perimeter(self):\n",
        "        return 2 * (self.width + self.height)\n",
        "\n",
        "class Circle(Shape):\n",
        "    def __init__(self, radius):\n",
        "        self.radius = radius\n",
        "\n",
        "    def area(self):\n",
        "        return 3.14 * self.radius * self.radius\n",
        "\n",
        "    def perimeter(self):\n",
        "        return 2 * 3.14 * self.radius\n",
        "```\n",
        "\n",
        "* In this example, the Shape class is an abstract superclass. It defines two abstract methods `area()` and `perimeter()`. The concrete subclasses, Rectangle and Circle, inherit from the Shape class and provide implementations for these abstract methods. Instances of the concrete subclasses can be created and used, while instances of the abstract superclass `(Shape)` cannot be instantiated directly.\n",
        "\n",
        "---------------------------------------------------------------------------"
      ],
      "metadata": {
        "id": "I3HtiGTvxY8r"
      }
    },
    {
      "cell_type": "markdown",
      "source": [
        "### Q2. What happens when a class statement's top level contains a basic assignment statement?\n",
        "\n",
        "* When a class statement's top level contains a basic assignment statement, a class-level variable is created. This class-level variable will be shared among all instances (objects) of that class, and it will hold the assigned value. In other words, it becomes a class attribute.\n",
        "\n",
        "--------------------------------------------------------------------------\n",
        "\n",
        "\n"
      ],
      "metadata": {
        "id": "LVIPk6kxz326"
      }
    },
    {
      "cell_type": "markdown",
      "source": [
        "### Q3. Why does a class need to manually call a superclass's `__init__` method?\n",
        "\n",
        "* In object-oriented programming, when a class inherits from a superclass, it gains access to the attributes and methods defined in that superclass. However, the superclass's `__init__` method (constructor) is not automatically called when creating an instance of the subclass. As a result, if the superclass has important initialization logic in its constructor, the subclass needs to manually call the superclass's `__init__` method to ensure that the initialization is properly performed for both the subclass and the superclass.\n",
        "\n",
        "***There are a couple of reasons why a class needs to manually call a superclass's `__init__` method:***\n",
        "\n",
        "1. Inheritance hierarchy: When a class inherits from another class, it forms a hierarchy. Each class in the hierarchy may have its own specific initialization requirements. By calling the superclass's `__init__` method manually, you allow the superclass to perform its initialization steps before initializing the subclass. This ensures that the entire inheritance chain is properly initialized.\n",
        "\n",
        "2. Preserving functionality: The `__init__` method is responsible for initializing instance variables and performing other essential setup tasks for the class. By manually calling the superclass's `__init__`, the subclass can preserve the functionality provided by the superclass and extend it with its own additional initialization logic if necessary.\n",
        "\n",
        "--------------------------------------------------------------------------\n",
        "\n"
      ],
      "metadata": {
        "id": "dFboAwTR1jTt"
      }
    },
    {
      "cell_type": "markdown",
      "source": [
        "### Q4. How can you augment, instead of completely replacing, an inherited method?\n",
        "\n",
        "* You can augment an inherited method from a superclass without completely replacing it by using method overriding. Method overriding allows a subclass to provide its own implementation for a method inherited from the superclass while still incorporating some or all of the functionality from the superclass's method.\n",
        "\n",
        "Example:\n",
        "```\n",
        "class Animal:\n",
        "    def make_sound(self):\n",
        "        print(\"Generic animal sound\")\n",
        "\n",
        "class Cat(Animal):\n",
        "    def make_sound(self):\n",
        "        super().make_sound()  # Call the superclass's make_sound method\n",
        "        print(\"Meow\")\n",
        "\n",
        "cat = Cat()\n",
        "cat.make_sound()\n",
        "```\n",
        "\n",
        "* By using method overriding with super(), you can take advantage of the existing behavior from the superclass while customizing or extending it in the subclass. It's a powerful technique in object-oriented programming that allows you to build upon existing functionality in a flexible and maintainable way.\n",
        "\n",
        "-------------------------------------------------------------------------"
      ],
      "metadata": {
        "id": "yAgiy3ez1jXJ"
      }
    },
    {
      "cell_type": "markdown",
      "source": [
        "### Q5. How is the local scope of a class different from that of a function?\n",
        "\n",
        "**Purpose:**\n",
        "\n",
        "* The local scope in a function is used to store and manage variables that are defined within the function. These variables are accessible only within the function and are typically used for temporary calculations or intermediate values during the function's execution.\n",
        "* The local scope in a class is used to define methods and variables (attributes) that are specific to the class. These variables are accessible within the class methods but are not accessible outside the class.\n",
        "\n",
        "**Lifespan:**\n",
        "\n",
        "* The local scope in a function is created when the function is called and destroyed when the function exits. Variables defined in the local scope cease to exist once the function finishes its execution.\n",
        "* The local scope in a class is created when the class is defined and persists as long as the program is running. Class-level variables (attributes) retain their values throughout the program's lifetime, even if there are no instances (objects) of the class currently in use.\n",
        "\n",
        "**Accessibility:**\n",
        "\n",
        "* Variables defined in the local scope of a function are only accessible within that function. They cannot be directly accessed outside of the function, and any attempt to access them from outside the function will result in a NameError.\n",
        "* Methods and class-level variables defined within a class are accessible from within the class itself but not from outside the class. To access class-level variables or methods, you need to create an instance (object) of the class.\n",
        "---------------------------------------------------------------------------\n"
      ],
      "metadata": {
        "id": "wN6ag6YE1jiD"
      }
    }
  ]
}