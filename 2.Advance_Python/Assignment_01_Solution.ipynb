{
  "nbformat": 4,
  "nbformat_minor": 0,
  "metadata": {
    "colab": {
      "provenance": [],
      "authorship_tag": "ABX9TyOZnxYZbeWNGxS9urWc8UYW",
      "include_colab_link": true
    },
    "kernelspec": {
      "name": "python3",
      "display_name": "Python 3"
    },
    "language_info": {
      "name": "python"
    }
  },
  "cells": [
    {
      "cell_type": "markdown",
      "metadata": {
        "id": "view-in-github",
        "colab_type": "text"
      },
      "source": [
        "<a href=\"https://colab.research.google.com/github/narsingh2231/DS_Assignments/blob/main/2.Advance_Python/Assignment_01_Solution.ipynb\" target=\"_parent\"><img src=\"https://colab.research.google.com/assets/colab-badge.svg\" alt=\"Open In Colab\"/></a>"
      ]
    },
    {
      "cell_type": "markdown",
      "source": [
        "Q1. What is the purpose of Python's OOP?\n",
        "\n",
        "Q2. Where does an inheritance search look for an attribute?\n",
        "\n",
        "Q3. How do you distinguish between a class object and an instance object?\n",
        "\n",
        "Q4. What makes the first argument in a class’s method function special?\n",
        "\n",
        "Q5. What is the purpose of the __init__ method?\n",
        "\n",
        "Q6. What is the process for creating a class instance?\n",
        "\n",
        "Q7. What is the process for creating a class?\n",
        "\n",
        "Q8. How would you define the superclasses of a class?"
      ],
      "metadata": {
        "id": "XfQFlZBdU2ut"
      }
    },
    {
      "cell_type": "code",
      "source": [],
      "metadata": {
        "id": "V4pvkLMOU3wS"
      },
      "execution_count": null,
      "outputs": []
    }
  ]
}