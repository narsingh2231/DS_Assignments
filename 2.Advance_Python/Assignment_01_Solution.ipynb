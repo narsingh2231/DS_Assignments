{
  "nbformat": 4,
  "nbformat_minor": 0,
  "metadata": {
    "colab": {
      "provenance": [],
      "authorship_tag": "ABX9TyPhEWpRdfTgVpeek7cE49cX",
      "include_colab_link": true
    },
    "kernelspec": {
      "name": "python3",
      "display_name": "Python 3"
    },
    "language_info": {
      "name": "python"
    }
  },
  "cells": [
    {
      "cell_type": "markdown",
      "metadata": {
        "id": "view-in-github",
        "colab_type": "text"
      },
      "source": [
        "<a href=\"https://colab.research.google.com/github/narsingh2231/DS_Assignments/blob/main/2.Advance_Python/Assignment_01_Solution.ipynb\" target=\"_parent\"><img src=\"https://colab.research.google.com/assets/colab-badge.svg\" alt=\"Open In Colab\"/></a>"
      ]
    },
    {
      "cell_type": "markdown",
      "source": [
        "\n",
        "### Q1. What is the purpose of Python's OOP?\n",
        "\n",
        "* Object-Oriented Programming makes the program easy to understand as well as efficient. Since the class is sharable, the code can be reused. Data is safe and secure with data abstraction. Polymorphism allows the same interface for different objects, so programmers can write efficient code.\n",
        "\n",
        "\n",
        "-------------------------------------------------------------------------"
      ],
      "metadata": {
        "id": "XfQFlZBdU2ut"
      }
    },
    {
      "cell_type": "markdown",
      "source": [
        "### Q2. Where does an inheritance search look for an attribute?\n",
        "\n",
        "* An inheritance search looks for an attribute first in the instance object, then in the class the instance was created from, then in all higher superclasses, progressing from left to right (by default). The search stops at the first place the attribute is found.\n",
        "\n",
        "----------------------------------------------------------------------\n",
        "\n",
        "\n"
      ],
      "metadata": {
        "id": "NkvFKNTnWwGe"
      }
    },
    {
      "cell_type": "markdown",
      "source": [
        "### Q3. How do you distinguish between a class object and an instance object?\n",
        "\n",
        "* The basic concept of OOP is this: Class >> Object >> Instance. The class = the blue print. The Object is an actual thing that is built based on the 'blue print' (like the house). An instance is a virtual copy (but not a real copy) of the object.\n",
        "\n",
        "---------------------------------------------------------------------------\n",
        "\n"
      ],
      "metadata": {
        "id": "txIiKMgbWwUB"
      }
    },
    {
      "cell_type": "markdown",
      "source": [
        "### Q4. What makes the first argument in a class’s method function special?\n",
        "\n",
        "* Self is the first argument to be passed in Constructor and Instance Method. Self must be provided as a First parameter to the Instance method and constructor.\n",
        "\n",
        "\n",
        "---------------------------------------------------------------------------"
      ],
      "metadata": {
        "id": "9AfNL3sQWwec"
      }
    },
    {
      "cell_type": "markdown",
      "source": [
        "### Q5. What is the purpose of the \\_\\_init\\_\\_ method?\n",
        "\n",
        "* The `__init__` method is a special method in Python classes and is short for \"initialize.\" It is called automatically when you create a new instance (object) of a class. The primary purpose of the `__init__` method is to initialize the attributes (variables) of the class and set their initial values.\n",
        "\n",
        "-----------------------------------------------------------------\n",
        "\n"
      ],
      "metadata": {
        "id": "BAbMfWgfWwpF"
      }
    },
    {
      "cell_type": "markdown",
      "source": [
        "### Q6. What is the process for creating a class instance?\n",
        "\n",
        "* To create instances of a class, you call the class using class name and pass in whatever arguments its __init__ method accepts.\n",
        "\n",
        "---------------------------------------------------------------------------\n"
      ],
      "metadata": {
        "id": "8BW2zcSPWwy_"
      }
    },
    {
      "cell_type": "markdown",
      "source": [
        "### Q7. What is the process for creating a class?\n",
        "\n",
        "* Use the class Keyword: To define a class, you use the class keyword followed by the class name. The class name should follow Python naming conventions (usually written in CamelCase).\n",
        "\n",
        "* Define Attributes: Within the class definition, you can define attributes, which are variables that hold data specific to each instance of the class. These attributes are typically initialized in the __init__ method\n",
        "\n",
        "* Define Methods: Methods are functions defined inside the class, which can perform actions or provide functionalities related to the class. The first parameter of every method should be self, which refers to the instance of the class\n",
        "--------------------------------------------------------------------------\n",
        "\n",
        "\n",
        "\n"
      ],
      "metadata": {
        "id": "W4k1_PgFZPoa"
      }
    },
    {
      "cell_type": "markdown",
      "source": [
        "### Q8. How would you define the superclasses of a class?\n",
        "\n",
        "* In Python, a class can have one or more superclasses, which are also known as parent classes or base classes. A superclass is the class from which the current class inherits attributes and methods. By inheriting from a superclass, the subclass (derived class) can reuse code and extend the functionality of the superclass. The process of inheriting from a superclass is called inheritance.\n",
        "\n",
        "* To define the superclasses of a class, you specify them inside the class definition in parentheses after the class name. Here's the syntax for defining a class with one or more superclasses"
      ],
      "metadata": {
        "id": "_l6m7TMWZPz3"
      }
    }
  ]
}