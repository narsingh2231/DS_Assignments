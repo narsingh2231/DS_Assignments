{
  "nbformat": 4,
  "nbformat_minor": 0,
  "metadata": {
    "colab": {
      "provenance": [],
      "authorship_tag": "ABX9TyPJnCQVqs1hbuiwcseVb8ob",
      "include_colab_link": true
    },
    "kernelspec": {
      "name": "python3",
      "display_name": "Python 3"
    },
    "language_info": {
      "name": "python"
    }
  },
  "cells": [
    {
      "cell_type": "markdown",
      "metadata": {
        "id": "view-in-github",
        "colab_type": "text"
      },
      "source": [
        "<a href=\"https://colab.research.google.com/github/narsingh2231/DS_Assignments/blob/main/2.Advance_Python/Assignment_02_Solution.ipynb\" target=\"_parent\"><img src=\"https://colab.research.google.com/assets/colab-badge.svg\" alt=\"Open In Colab\"/></a>"
      ]
    },
    {
      "cell_type": "markdown",
      "source": [
        "### Q1. What is the relationship between classes and modules?\n",
        "\n",
        "##### a class is used to define a blueprint for a given object, whereas a module is used to reuse a given piece of code inside another program.\n",
        "\n",
        "#### Classes:\n",
        "* Classes are used to define custom data types and create objects that encapsulate data and behavior.\n",
        "They provide a blueprint or template that defines the structure and behavior of objects that will be created from the class.\n",
        "* Classes allow you to model real-world entities, abstract concepts, or any custom data structure with attributes (variables) and methods (functions) that operate on those attributes.\n",
        "Objects created from a class are instances of that class and can have their own unique state and behavior.\n",
        "* Classes facilitate the concept of object-oriented programming (OOP) by providing mechanisms like inheritance, encapsulation, and polymorphism.\n",
        "\n",
        "#### Modules:\n",
        "* Modules are files containing Python code that can include classes, functions, and variables, among other things.\n",
        "They are used to organize related functionality and make code more maintainable and reusable.\n",
        "* Modules provide a way to split code into logical units, allowing you to group related classes and functions together.\n",
        "* By importing modules into your Python script or program, you can access the code defined in them and use it in your current context.\n",
        "\n",
        "---------------------------------------------------------------------------"
      ],
      "metadata": {
        "id": "29LyTKRwi5mQ"
      }
    },
    {
      "cell_type": "markdown",
      "source": [
        "### Q2. How do you make instances and classes?\n",
        "\n",
        "* Define the Class: First, you need to define a class blueprint that describes the attributes and methods that instances of the class will have. You can define a class using the class keyword followed by the class name.\n",
        "\n",
        "* Create Instances (Objects): To create instances (objects) of the class, you call the class as if it were a function and pass any required arguments to the `__init__` method. This will automatically create an instance of the class and call its `__init__` method.\n",
        "---------------------------------------------------------------------------"
      ],
      "metadata": {
        "id": "qWIMCczzi6bv"
      }
    },
    {
      "cell_type": "markdown",
      "source": [
        "### Q3. Where and how should be class attributes created?\n",
        "\n",
        "* Class attributes are attributes that are shared by all instances of a class. They are created at the class level, outside of any methods, and are associated with the class rather than with individual instances. Class attributes are defined inside the class body but outside of the __init__ method or any other instance methods.\n",
        "\n",
        "---------------------------------------------------------------------------"
      ],
      "metadata": {
        "id": "cYHanukdi6eH"
      }
    },
    {
      "cell_type": "markdown",
      "source": [
        "### Q4. Where and how are instance attributes created?\n",
        "\n",
        "* Instance attributes are attributes that belong to individual instances (objects) of a class. They are created within the `__init__` method of the class. The `__init__` method is a special method that gets called automatically when you create a new instance of the class. Inside the `__init__` method, you can define instance attributes and assign initial values to them using the self parameter, which refers to the instance being created.\n",
        "\n",
        "---------------------------------------------------------------------------\n",
        "\n"
      ],
      "metadata": {
        "id": "5k6zSagWi6go"
      }
    },
    {
      "cell_type": "markdown",
      "source": [
        "### Q5. What does the term \"self\" in a Python class mean?\n",
        "\n",
        "* In Python, the term \"self\" is a conventional name used as the first parameter in the definition of instance methods within a class. It is not a reserved keyword in Python, but it is a widely adopted convention that helps maintain consistency and readability in object-oriented programming.\n",
        "\n",
        "* The \"self\" parameter refers to the instance of the class itself. When you call an instance method on an object, Python automatically passes the instance as the first argument to the method, and by convention, this parameter is named \"self.\" This way, the method knows on which instance it is being called and can access or modify the instance's attributes and call other methods.\n",
        "\n",
        "--------------------------------------------------------------------------"
      ],
      "metadata": {
        "id": "krdTkecii6i_"
      }
    },
    {
      "cell_type": "markdown",
      "source": [
        "### Q6. How does a Python class handle operator overloading?\n",
        "\n",
        "* To perform operator overloading, Python provides some special function or magic function that is automatically invoked when it is associated with that particular operator. For example, when we use + operator, the magic method __add__ is automatically invoked in which the operation for + operator is defined.\n",
        "\n",
        "---------------------------------------------------------------------------"
      ],
      "metadata": {
        "id": "kfthJo3fi6lj"
      }
    },
    {
      "cell_type": "markdown",
      "source": [
        "### Q7. When do you consider allowing operator overloading of your classes?\n",
        "\n",
        "* Python allows classes to handle operator overloading, which means you can define special methods within a class to specify how instances of the class should behave with built-in operators, such as `+, -, *, /, ==, <, >, etc.` Operator overloading allows you to define custom behavior for operators, making your classes more intuitive and flexible.\n",
        "\n",
        "* To perform operator overloading, you need to define special methods with specific names that Python recognizes for each operator. These methods are also known as magic methods or dunder methods (double underscore methods).\n",
        "\n",
        "Here are some common magic methods for operator overloading:\n",
        "```\n",
        "  Addition: __add__(self, other)\n",
        "  Subtraction: __sub__(self, other)\n",
        "  Multiplication: __mul__(self, other)\n",
        "  Division: __truediv__(self, other)\n",
        "  Equality: __eq__(self, other)\n",
        "  Less than: __lt__(self, other)\n",
        "  Greater than: __gt__(self, other)\n",
        "  and many more...\n",
        "```\n",
        "-------------------------------------------------------------------------"
      ],
      "metadata": {
        "id": "axq7ztYVi6oN"
      }
    },
    {
      "cell_type": "markdown",
      "source": [
        "### Q8. What is the most popular form of operator overloading?\n",
        "\n",
        "**Plus Operator Overloaded**\n",
        "* The most common use of the addition operator '+' is for concatenating and combining two different strings. As mentioned on top, the plus symbol's practice in dissimilar forms is the largest classic example of the operator-level overloading process.\n",
        "\n",
        "--------------------------------------------------------------------------"
      ],
      "metadata": {
        "id": "_SkVIJe9i6q1"
      }
    },
    {
      "cell_type": "markdown",
      "source": [
        "### Q9. What are the two most important concepts to grasp in order to comprehend Python OOP code?\n",
        "\n",
        "* Both inheritance and polymorphism are fundamental concepts of object oriented programming. These concepts help us to create code that can be extended and easily maintainable.\n",
        "\n",
        "---------------------------------------------------------------------------"
      ],
      "metadata": {
        "id": "BEc-Rpwri6tN"
      }
    }
  ]
}