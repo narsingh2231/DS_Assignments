{
  "nbformat": 4,
  "nbformat_minor": 0,
  "metadata": {
    "colab": {
      "provenance": [],
      "authorship_tag": "ABX9TyMV9JymmHXT4a2NY/fueIEp",
      "include_colab_link": true
    },
    "kernelspec": {
      "name": "python3",
      "display_name": "Python 3"
    },
    "language_info": {
      "name": "python"
    }
  },
  "cells": [
    {
      "cell_type": "markdown",
      "metadata": {
        "id": "view-in-github",
        "colab_type": "text"
      },
      "source": [
        "<a href=\"https://colab.research.google.com/github/narsingh2231/DS_Assignments/blob/main/2.Advance_Python/Assignment_04_Solution.ipynb\" target=\"_parent\"><img src=\"https://colab.research.google.com/assets/colab-badge.svg\" alt=\"Open In Colab\"/></a>"
      ]
    },
    {
      "cell_type": "markdown",
      "source": [
        "### Q1. Which two operator overloading methods can you use in your classes to support iteration?\n",
        "\n",
        "--------------------------------------------------------------------------"
      ],
      "metadata": {
        "id": "LkIJtcxHDgA6"
      }
    },
    {
      "cell_type": "markdown",
      "source": [
        "### Q2. In what contexts do the two operator overloading methods manage printing?\n",
        "\n",
        "--------------------------------------------------------------------------"
      ],
      "metadata": {
        "id": "as5yXXg0DgPZ"
      }
    },
    {
      "cell_type": "markdown",
      "source": [
        "### Q3. In a class, how do you intercept slice operations?\n",
        "\n",
        "---------------------------------------------------------------------------"
      ],
      "metadata": {
        "id": "WmoDfD2XDgaP"
      }
    },
    {
      "cell_type": "markdown",
      "source": [
        "### Q4. In a class, how do you capture in-place addition?\n",
        "\n",
        "---------------------------------------------------------------------------"
      ],
      "metadata": {
        "id": "d1gDKQshDgmA"
      }
    },
    {
      "cell_type": "markdown",
      "source": [
        "### Q5. When is it appropriate to use operator overloading?\n",
        "\n",
        "--------------------------------------------------------------------------"
      ],
      "metadata": {
        "id": "LgHiyBNaDgxK"
      }
    }
  ]
}